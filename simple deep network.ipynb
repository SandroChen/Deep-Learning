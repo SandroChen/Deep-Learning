{
 "cells": [
  {
   "cell_type": "code",
   "execution_count": 20,
   "id": "b0cc67ec",
   "metadata": {},
   "outputs": [],
   "source": [
    "import numpy as np\n",
    "import matplotlib.pyplot as plt\n",
    "import h5py"
   ]
  },
  {
   "cell_type": "code",
   "execution_count": 21,
   "id": "353c8e4e",
   "metadata": {},
   "outputs": [],
   "source": [
    "# data processing\n",
    "\n",
    "# read h5 file and transform to ndarray\n",
    "train = h5py.File('datasets/train_catvnoncat.h5', \"r\")\n",
    "train_x = np.array(train[\"train_set_x\"])/255\n",
    "train_y = np.array(train[\"train_set_y\"])\n",
    "\n",
    "test = h5py.File('datasets/test_catvnoncat.h5', \"r\")\n",
    "test_x = np.array(test[\"test_set_x\"])/255\n",
    "test_y = np.array(test[\"test_set_y\"])\n",
    "\n",
    "# classes\n",
    "classes = np.array(test[\"list_classes\"])\n",
    "\n",
    "# reshape data\n",
    "train_x = train_x.reshape(train_x.shape[0], -1).T\n",
    "train_y = train_y.reshape(1, train_y.shape[0])\n",
    "\n",
    "test_x = test_x.reshape(test_x.shape[0], -1).T\n",
    "test_y = test_y.reshape(1, test_y.shape[0])"
   ]
  },
  {
   "cell_type": "code",
   "execution_count": 41,
   "id": "26eff555",
   "metadata": {},
   "outputs": [],
   "source": [
    "class net:\n",
    "    def __init__(self, layer_dims, m):\n",
    "        self.depth = len(layer_dims)-1\n",
    "        self.layer_dims = layer_dims\n",
    "        self.W = []\n",
    "        self.B= []\n",
    "        self.A = []\n",
    "        for i in range(self.depth):\n",
    "            w = 0.01 * np.random.randn(layer_dims[i+1], layer_dims[i])\n",
    "            self.W.append(w)\n",
    "        for i in range(self.depth):\n",
    "            b = np.zeros((layer_dims[i+1], 1))\n",
    "            self.B.append(b)\n",
    "        for i in range(len(self.layer_dims)):\n",
    "            a = np.zeros((self.layer_dims[i], m))\n",
    "            self.A.append(a)\n",
    "            \n",
    "    def train(self, X, Y, alpha, epochs):\n",
    "        costs = []\n",
    "        for _ in range(epochs):\n",
    "            self.feedforward(X)\n",
    "            self.backpropogate(Y, alpha)\n",
    "            loss = -(np.log(self.A[-1]) @ Y.T + np.log(1-self.A[-1]) @ (1-Y).T) / Y.shape[1]\n",
    "            loss = np.squeeze(loss)\n",
    "            costs.append(loss)\n",
    "            if (_+1) % 100 == 0:\n",
    "                print(f\"loss after {_+1} epochs: {loss}\")\n",
    "        return costs\n",
    "                \n",
    "    def feedforward(self, X):\n",
    "        assert(self.A[0].shape[0] == X.shape[0])\n",
    "        self.A[0] = X\n",
    "        for i in range(1, self.depth):\n",
    "            self.A[i] = self.ReLU(self.W[i-1] @ self.A[i-1] + self.B[i-1])\n",
    "        self.A[-1] = self.sigmoid(self.W[-1] @ self.A[-2] + self.B[-1])\n",
    "            \n",
    "    def backpropogate(self, Y, alpha):\n",
    "        assert(self.A[-1].shape[0] == Y.shape[0])\n",
    "        m = Y.shape[1]\n",
    "        dZ = self.sigmoidback(1, Y, self.A[-1])\n",
    "        dW = dZ @ self.A[-2].T / m\n",
    "        dB = np.sum(dZ) / m\n",
    "        self.W[-1] -= alpha * dW\n",
    "        self.B[-1] -= alpha * dB\n",
    "        if self.depth > 1:\n",
    "            for i in range(self.depth-1, 0, -1):\n",
    "                dZ = self.ReLUback(self.W[i], dZ, self.A[i])\n",
    "                dW = dZ @ self.A[i-1].T / m\n",
    "                dB = np.sum(dZ) / m\n",
    "                self.W[i-1] -= alpha * dW\n",
    "                self.B[i-1] -= alpha * dB\n",
    "                \n",
    "    def predict(self, X):\n",
    "        a = X.copy()\n",
    "        for i in range(self.depth-1):\n",
    "            a = ReLU(self.W[i] @ a + self.B[i])\n",
    "        a = sigmoid(self.W[i+1] @ a + self.B[i+1])\n",
    "        a[a>=0.5] = 1\n",
    "        a[a <0.5] = 0\n",
    "        return a\n",
    "    \n",
    "    @staticmethod\n",
    "    def sigmoid(z):\n",
    "        a = 1/(1+np.exp(-z))\n",
    "        return a\n",
    "    \n",
    "    @staticmethod\n",
    "    def ReLU(z):\n",
    "        a = np.maximum(0, z)\n",
    "        return a\n",
    "    \n",
    "    @staticmethod\n",
    "    def sigmoidback(w, dZ, a):\n",
    "        if w is np.ndarray:\n",
    "            return np.multiply(w.T @ dZ, (1-a)*a)\n",
    "        else:\n",
    "            return a - dZ\n",
    "    \n",
    "    @staticmethod\n",
    "    def ReLUback(w, dZ, a):\n",
    "        return np.multiply(w.T @ dZ, (a != 0).astype(np.int))"
   ]
  },
  {
   "cell_type": "code",
   "execution_count": 74,
   "id": "6b383deb",
   "metadata": {},
   "outputs": [],
   "source": [
    "np.random.seed(1)\n",
    "\n",
    "nn = net([train_x.shape[0], 7, 1], train_x.shape[1])"
   ]
  },
  {
   "cell_type": "code",
   "execution_count": 75,
   "id": "afa747a7",
   "metadata": {},
   "outputs": [
    {
     "name": "stdout",
     "output_type": "stream",
     "text": [
      "loss after 100 epochs: 0.6458112522006728\n",
      "loss after 200 epochs: 0.6296483211624426\n",
      "loss after 300 epochs: 0.5937285573412058\n",
      "loss after 400 epochs: 0.5486451356537572\n",
      "loss after 500 epochs: 0.5013317079781118\n",
      "loss after 600 epochs: 0.4605900684620182\n",
      "loss after 700 epochs: 0.4061969287707952\n",
      "loss after 800 epochs: 0.38993461281518393\n",
      "loss after 900 epochs: 0.36113523626361776\n",
      "loss after 1000 epochs: 0.3508802644521435\n",
      "loss after 1100 epochs: 0.27237725471539054\n",
      "loss after 1200 epochs: 0.3225300710155756\n",
      "loss after 1300 epochs: 0.291180298856663\n",
      "loss after 1400 epochs: 0.3811781491060155\n",
      "loss after 1500 epochs: 0.1773811224886809\n",
      "loss after 1600 epochs: 0.11297651057487065\n",
      "loss after 1700 epochs: 0.09758123573041079\n",
      "loss after 1800 epochs: 0.08367167461548308\n",
      "loss after 1900 epochs: 0.07008948633660805\n",
      "loss after 2000 epochs: 0.06073281921905411\n",
      "loss after 2100 epochs: 0.053361036960909214\n",
      "loss after 2200 epochs: 0.04731886958934366\n",
      "loss after 2300 epochs: 0.04088940408453362\n",
      "loss after 2400 epochs: 0.03594742852634363\n",
      "loss after 2500 epochs: 0.0322255190877322\n"
     ]
    }
   ],
   "source": [
    "costs = nn.train(train_x, train_y, alpha=0.008, epochs=2500)"
   ]
  },
  {
   "cell_type": "code",
   "execution_count": 76,
   "id": "657bf779",
   "metadata": {},
   "outputs": [
    {
     "data": {
      "text/plain": [
       "[<matplotlib.lines.Line2D at 0x7f2a32497d30>]"
      ]
     },
     "execution_count": 76,
     "metadata": {},
     "output_type": "execute_result"
    },
    {
     "data": {
      "image/png": "[encoded data removed]",
      "text/plain": [
       "<Figure size 432x288 with 1 Axes>"
      ]
     },
     "metadata": {
      "needs_background": "light"
     },
     "output_type": "display_data"
    }
   ],
   "source": [
    "import matplotlib.pyplot as plt\n",
    "\n",
    "plt.plot(costs)"
   ]
  },
  {
   "cell_type": "code",
   "execution_count": 77,
   "id": "ef90a4ac",
   "metadata": {},
   "outputs": [],
   "source": [
    "def predict(net, X):\n",
    "    a = X.copy()\n",
    "    for i in range(net.depth-1):\n",
    "        a = net.ReLU(net.W[i] @ a + net.B[i])\n",
    "    a = net.sigmoid(net.W[i+1] @ a + net.B[i+1])\n",
    "    a[a>=0.5] = 1\n",
    "    a[a< 0.5] = 0\n",
    "    return a"
   ]
  },
  {
   "cell_type": "code",
   "execution_count": 78,
   "id": "1ae70054",
   "metadata": {},
   "outputs": [
    {
     "name": "stdout",
     "output_type": "stream",
     "text": [
      "0.9952153110047847\n"
     ]
    }
   ],
   "source": [
    "pre = predict(nn, train_x)\n",
    "accuracy = np.sum(pre==train_y)/len(pre[0])\n",
    "print(accuracy)"
   ]
  },
  {
   "cell_type": "code",
   "execution_count": 79,
   "id": "31d8f65c",
   "metadata": {},
   "outputs": [
    {
     "name": "stdout",
     "output_type": "stream",
     "text": [
      "0.72\n"
     ]
    }
   ],
   "source": [
    "pre = predict(nn, test_x)\n",
    "accuracy = np.sum(pre==test_y)/len(pre[0])\n",
    "print(accuracy)"
   ]
  }
 ],
 "metadata": {
  "kernelspec": {
   "display_name": "Python 3",
   "language": "python",
   "name": "python3"
  },
  "language_info": {
   "codemirror_mode": {
    "name": "ipython",
    "version": 3
   },
   "file_extension": ".py",
   "mimetype": "text/x-python",
   "name": "python",
   "nbconvert_exporter": "python",
   "pygments_lexer": "ipython3",
   "version": "3.8.10"
  }
 },
 "nbformat": 4,
 "nbformat_minor": 5
}

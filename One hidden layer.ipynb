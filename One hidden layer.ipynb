{
 "cells": [
  {
   "cell_type": "code",
   "execution_count": 7,
   "id": "5e026ce8",
   "metadata": {},
   "outputs": [],
   "source": [
    "import numpy as np\n",
    "import matplotlib.pyplot as plt\n",
    "import h5py\n",
    "\n",
    "%matplotlib inline"
   ]
  },
  {
   "cell_type": "code",
   "execution_count": 9,
   "id": "97c966a2",
   "metadata": {},
   "outputs": [],
   "source": [
    "# data processing\n",
    "\n",
    "# read h5 file and transform to ndarray\n",
    "train = h5py.File('datasets/train_catvnoncat.h5', \"r\")\n",
    "train_x = np.array(train[\"train_set_x\"])/255\n",
    "train_y = np.array(train[\"train_set_y\"])\n",
    "\n",
    "test = h5py.File('datasets/test_catvnoncat.h5', \"r\")\n",
    "test_x = np.array(test[\"test_set_x\"])/255\n",
    "test_y = np.array(test[\"test_set_y\"])\n",
    "\n",
    "# classes\n",
    "classes = np.array(test[\"list_classes\"])\n",
    "\n",
    "# reshape data\n",
    "train_x = train_x.reshape(train_x.shape[0], -1).T\n",
    "train_y = train_y.reshape(1, train_y.shape[0])\n",
    "\n",
    "test_x = test_x.reshape(test_x.shape[0], -1).T\n",
    "test_y = test_y.reshape(1, test_y.shape[0])"
   ]
  },
  {
   "cell_type": "code",
   "execution_count": 41,
   "id": "2b8ccbac",
   "metadata": {},
   "outputs": [],
   "source": [
    "def sigmoid(x):\n",
    "    return 1/(1+np.exp(-x))"
   ]
  },
  {
   "cell_type": "code",
   "execution_count": 45,
   "id": "08afc331",
   "metadata": {},
   "outputs": [],
   "source": [
    "class model:\n",
    "    def __init__(self, X, Y, nh, alpha=0.005, num_iterations=1000):\n",
    "        self.w1 = 0.001 * np.random.random((X.shape[0], nh))\n",
    "        self.w2 = 0.001 * np.random.random((nh, 1))\n",
    "        self.b1 = np.zeros((nh, 1))\n",
    "        self.b2 = 0.\n",
    "        m = X.shape[1]\n",
    "        self.costs = []\n",
    "        for i in range(num_iterations):\n",
    "            A1 = np.tanh(self.w1.T @ X + self.b1)\n",
    "            A2 = sigmoid(self.w2.T @ A1 + self.b2)\n",
    "            self.costs.append(1/m*np.sum(-Y*np.log(A2)-(1-Y)*np.log(1-A2)))\n",
    "            # output layer gradient descent\n",
    "            dA2 = A2 - Y\n",
    "            dw2 = 1 / m * (A1 @ dA2.T)\n",
    "            db2 = 1 / m * np.sum(dA2)\n",
    "            # hidden layter gradient descent\n",
    "            dA1 = 1-A1**2\n",
    "            dw1 = 1 / m * (X @ dA1.T)\n",
    "            db1 = 1 / m * np.sum(dA1)\n",
    "            # update parameters\n",
    "            self.w1 -= alpha*dw1\n",
    "            self.w2 -= alpha*dw2\n",
    "            self.b1 -= alpha*db1\n",
    "            self.b2 -= alpha*db2"
   ]
  },
  {
   "cell_type": "code",
   "execution_count": 48,
   "id": "51b86830",
   "metadata": {},
   "outputs": [],
   "source": [
    "clf = model(train_x, train_y, nh=10)"
   ]
  },
  {
   "cell_type": "code",
   "execution_count": 49,
   "id": "16d651c5",
   "metadata": {},
   "outputs": [
    {
     "data": {
      "text/plain": [
       "[<matplotlib.lines.Line2D at 0x1e093031bb0>]"
      ]
     },
     "execution_count": 49,
     "metadata": {},
     "output_type": "execute_result"
    },
    {
     "data": {
      "image/png": "[encoded data removed]",
      "text/plain": [
       "<Figure size 432x288 with 1 Axes>"
      ]
     },
     "metadata": {
      "needs_background": "light"
     },
     "output_type": "display_data"
    }
   ],
   "source": [
    "plt.plot(clf.costs)"
   ]
  },
  {
   "cell_type": "code",
   "execution_count": null,
   "id": "03b10737",
   "metadata": {},
   "outputs": [],
   "source": []
  }
 ],
 "metadata": {
  "kernelspec": {
   "display_name": "Python 3",
   "language": "python",
   "name": "python3"
  },
  "language_info": {
   "codemirror_mode": {
    "name": "ipython",
    "version": 3
   },
   "file_extension": ".py",
   "mimetype": "text/x-python",
   "name": "python",
   "nbconvert_exporter": "python",
   "pygments_lexer": "ipython3",
   "version": "3.9.5"
  }
 },
 "nbformat": 4,
 "nbformat_minor": 5
}

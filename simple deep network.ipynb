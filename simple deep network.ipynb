{
 "cells": [
  {
   "cell_type": "code",
   "execution_count": 2,
   "metadata": {},
   "outputs": [],
   "source": [
    "import numpy as np"
   ]
  },
  {
   "cell_type": "code",
   "execution_count": 8,
   "metadata": {},
   "outputs": [
    {
     "ename": "IndentationError",
     "evalue": "expected an indented block (<ipython-input-8-0d3af2fcbf7f>, line 15)",
     "output_type": "error",
     "traceback": [
      "\u001b[1;36m  File \u001b[1;32m\"<ipython-input-8-0d3af2fcbf7f>\"\u001b[1;36m, line \u001b[1;32m15\u001b[0m\n\u001b[1;33m    def initialize(self, X):\u001b[0m\n\u001b[1;37m      ^\u001b[0m\n\u001b[1;31mIndentationError\u001b[0m\u001b[1;31m:\u001b[0m expected an indented block\n"
     ]
    }
   ],
   "source": [
    "class net:\n",
    "    def __init__(self, layer_dims):\n",
    "        self.depth = len(layer_dims-1)\n",
    "        self.W = []\n",
    "        self.B= []\n",
    "        self.A = []\n",
    "        for i in range(self.depth):\n",
    "            w = np.random.randn(1, layer_dims[i])\n",
    "            self.W.append(w)\n",
    "        for i in range(self.depth):\n",
    "            b = np.zeros((layer_dims[i+1], 1))\n",
    "            self.B.append(b)\n",
    "    def train(self, X, Y, epoch, alpha, active_function):\n",
    "        \n",
    "    def initialize(self, X):\n",
    "        m = X.shape[1]\n",
    "        for i in range(self.depth+1):\n",
    "            a = np.zeros((layer_dims[i], m))\n",
    "            self.A.append(a)\n",
    "    def forward(self, X):\n",
    "        assert(self.A[0].shape[0] == X.shape[0])\n",
    "        self.A[0] = X\n",
    "        for i in range(self.depth):\n",
    "            self.A[i+1] = self.W[i] @ self.A[i] + self.B[i]\n",
    "    def backpropogate(self, Y):\n",
    "        assert(self.A[-1].shape[0] == Y.shape[0])\n",
    "    \n",
    "    @static\n",
    "    def sigmoid(z):\n",
    "        a = 1/(1+np.exp(-z))\n",
    "        return a\n",
    "    \n",
    "    @static\n",
    "    def ReLU(z):\n",
    "        a = np.maximum(0, z)\n",
    "        return a\n",
    "    \n",
    "    @static\n",
    "    def sigmoidback(a):\n",
    "        return a * (1-a)\n",
    "    \n",
    "    @static\n",
    "    def ReLUback(a):\n",
    "        return (a != 0).astype(np.int)"
   ]
  },
  {
   "cell_type": "code",
   "execution_count": 7,
   "metadata": {},
   "outputs": [
    {
     "name": "stdout",
     "output_type": "stream",
     "text": [
      "[1 1]\n"
     ]
    }
   ],
   "source": [
    "print(np.array([True,True], dtype=int))"
   ]
  },
  {
   "cell_type": "code",
   "execution_count": null,
   "metadata": {},
   "outputs": [],
   "source": []
  }
 ],
 "metadata": {
  "kernelspec": {
   "display_name": "Python 3",
   "language": "python",
   "name": "python3"
  },
  "language_info": {
   "codemirror_mode": {
    "name": "ipython",
    "version": 3
   },
   "file_extension": ".py",
   "mimetype": "text/x-python",
   "name": "python",
   "nbconvert_exporter": "python",
   "pygments_lexer": "ipython3",
   "version": "3.7.7"
  }
 },
 "nbformat": 4,
 "nbformat_minor": 5
}

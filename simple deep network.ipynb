{
 "cells": [
  {
   "cell_type": "code",
   "execution_count": 1,
   "id": "b0cc67ec",
   "metadata": {},
   "outputs": [],
   "source": [
    "import numpy as np"
   ]
  },
  {
   "cell_type": "code",
   "execution_count": 3,
   "id": "26eff555",
   "metadata": {},
   "outputs": [],
   "source": [
    "class net:\n",
    "    def __init__(self, layer_dims):\n",
    "        self.depth = len(layer_dims-1)\n",
    "        self.W = []\n",
    "        self.B= []\n",
    "        self.A = []\n",
    "        for i in range(self.depth):\n",
    "            w = np.random.randn(1, layer_dims[i])\n",
    "            self.W.append(w)\n",
    "        for i in range(self.depth):\n",
    "            b = np.zeros((layer_dims[i+1], 1))\n",
    "            self.B.append(b)\n",
    "    def train(self, X, Y, epoch, alpha, active_function):\n",
    "        for _ in range(epoch):\n",
    "            self.initialize(X)\n",
    "            self.feedforward(X)\n",
    "            self.backpropogate(Y, alpha)\n",
    "        \n",
    "    def initialize(self, X):\n",
    "        m = X.shape[1]\n",
    "        for i in range(self.depth+1):\n",
    "            a = np.zeros((layer_dims[i], m))\n",
    "            self.A.append(a)\n",
    "            \n",
    "    def feedforward(self, X):\n",
    "        assert(self.A[0].shape[0] == X.shape[0])\n",
    "        self.A[0] = X\n",
    "        for i in range(self.depth-1):\n",
    "            self.A[i+1] = self.sigmoid(self.W[i] @ self.A[i] + self.B[i])\n",
    "        self.A[i+1] = self.ReLU(self.W[i] @ self.A[i] + self.B[i])\n",
    "            \n",
    "    def backpropogate(self, Y, alpha):\n",
    "        assert(self.A[-1].shape[0] == Y.shape[0])\n",
    "        dZ = self.sigmoidback(self.A[-1], Y)\n",
    "        dW = dZ @ self.A[-2].T\n",
    "        self.W[-1] -= alpha * dW\n",
    "        self.B[-1] -= alpha * dZ\n",
    "        if self.depth > 1:\n",
    "            for i in range(self.depth-1, 0, -1):\n",
    "                dZ = self.ReLUback(self.W[i], dZ, self.A[i])\n",
    "                dW = dZ @ self.A[i-1].T\n",
    "                self.W[-1] -= alpha * dW\n",
    "                self.B[-1] -= alpha * dZ\n",
    "    \n",
    "    @staticmethod\n",
    "    def sigmoid(z):\n",
    "        a = 1/(1+np.exp(-z))\n",
    "        return a\n",
    "    \n",
    "    @staticmethod\n",
    "    def ReLU(z):\n",
    "        a = np.maximum(0, z)\n",
    "        return a\n",
    "    \n",
    "    @staticmethod\n",
    "    def sigmoidback(a, y):\n",
    "        return a - y\n",
    "    \n",
    "    @staticmethod\n",
    "    def ReLUback(w, dZ, a):\n",
    "        return np.multiply(w.T @ dZ, (a != 0).astype(np.int))"
   ]
  }
 ],
 "metadata": {
  "kernelspec": {
   "display_name": "Python 3",
   "language": "python",
   "name": "python3"
  },
  "language_info": {
   "codemirror_mode": {
    "name": "ipython",
    "version": 3
   },
   "file_extension": ".py",
   "mimetype": "text/x-python",
   "name": "python",
   "nbconvert_exporter": "python",
   "pygments_lexer": "ipython3",
   "version": "3.9.5"
  }
 },
 "nbformat": 4,
 "nbformat_minor": 5
}
